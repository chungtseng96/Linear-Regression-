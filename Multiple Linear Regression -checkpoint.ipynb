{
 "cells": [
  {
   "cell_type": "markdown",
   "metadata": {},
   "source": [
    "# Linear Regression using advance basketball statistics from NBA 2017-2018 season"
   ]
  },
  {
   "cell_type": "code",
   "execution_count": 192,
   "metadata": {},
   "outputs": [],
   "source": [
    "import numpy as np\n",
    "import pandas as pd\n",
    "from pylab import rcParams\n",
    "import seaborn as sb\n",
    "import matplotlib.pyplot as plt\n",
    "import sklearn\n",
    "from sklearn.linear_model import LinearRegression \n",
    "from sklearn.preprocessing import scale\n",
    "from collections import Counter "
   ]
  },
  {
   "cell_type": "code",
   "execution_count": 193,
   "metadata": {},
   "outputs": [],
   "source": [
    "%matplotlib inline \n",
    "rcParams['figure.figsize'] = 5,4\n",
    "sb.set_style('whitegrid')"
   ]
  },
  {
   "cell_type": "markdown",
   "metadata": {},
   "source": [
    "# Reading data using pandas"
   ]
  },
  {
   "cell_type": "code",
   "execution_count": 194,
   "metadata": {},
   "outputs": [
    {
     "data": {
      "text/html": [
       "<div>\n",
       "<style scoped>\n",
       "    .dataframe tbody tr th:only-of-type {\n",
       "        vertical-align: middle;\n",
       "    }\n",
       "\n",
       "    .dataframe tbody tr th {\n",
       "        vertical-align: top;\n",
       "    }\n",
       "\n",
       "    .dataframe thead th {\n",
       "        text-align: right;\n",
       "    }\n",
       "</style>\n",
       "<table border=\"1\" class=\"dataframe\">\n",
       "  <thead>\n",
       "    <tr style=\"text-align: right;\">\n",
       "      <th></th>\n",
       "      <th>RANK</th>\n",
       "      <th>TEAM</th>\n",
       "      <th>aPTS/GM</th>\n",
       "      <th>PTS DIFF</th>\n",
       "      <th>PACE</th>\n",
       "      <th>OEFF</th>\n",
       "      <th>DEFF</th>\n",
       "      <th>EDIFF</th>\n",
       "      <th>CONS</th>\n",
       "      <th>A4F</th>\n",
       "      <th>W</th>\n",
       "      <th>L</th>\n",
       "      <th>WIN%</th>\n",
       "      <th>eWIN%</th>\n",
       "      <th>pWIN%</th>\n",
       "      <th>ACH</th>\n",
       "      <th>Unnamed: 16</th>\n",
       "    </tr>\n",
       "  </thead>\n",
       "  <tbody>\n",
       "    <tr>\n",
       "      <th>0</th>\n",
       "      <td>1</td>\n",
       "      <td>Atlanta</td>\n",
       "      <td>108.8</td>\n",
       "      <td>-5.4</td>\n",
       "      <td>98.3</td>\n",
       "      <td>105.0</td>\n",
       "      <td>110.6</td>\n",
       "      <td>-5.6</td>\n",
       "      <td>13.4</td>\n",
       "      <td>-0.037</td>\n",
       "      <td>24</td>\n",
       "      <td>58</td>\n",
       "      <td>0.293</td>\n",
       "      <td>0.338</td>\n",
       "      <td>0.322</td>\n",
       "      <td>-0.045</td>\n",
       "      <td>NaN</td>\n",
       "    </tr>\n",
       "    <tr>\n",
       "      <th>1</th>\n",
       "      <td>2</td>\n",
       "      <td>Boston</td>\n",
       "      <td>100.4</td>\n",
       "      <td>3.6</td>\n",
       "      <td>96.0</td>\n",
       "      <td>107.6</td>\n",
       "      <td>103.9</td>\n",
       "      <td>3.7</td>\n",
       "      <td>11.5</td>\n",
       "      <td>0.033</td>\n",
       "      <td>55</td>\n",
       "      <td>27</td>\n",
       "      <td>0.671</td>\n",
       "      <td>0.627</td>\n",
       "      <td>0.619</td>\n",
       "      <td>0.044</td>\n",
       "      <td>NaN</td>\n",
       "    </tr>\n",
       "    <tr>\n",
       "      <th>2</th>\n",
       "      <td>3</td>\n",
       "      <td>Brooklyn</td>\n",
       "      <td>110.3</td>\n",
       "      <td>-3.7</td>\n",
       "      <td>98.9</td>\n",
       "      <td>106.9</td>\n",
       "      <td>110.6</td>\n",
       "      <td>-3.7</td>\n",
       "      <td>12.2</td>\n",
       "      <td>0.021</td>\n",
       "      <td>28</td>\n",
       "      <td>54</td>\n",
       "      <td>0.341</td>\n",
       "      <td>0.381</td>\n",
       "      <td>0.378</td>\n",
       "      <td>-0.040</td>\n",
       "      <td>NaN</td>\n",
       "    </tr>\n",
       "    <tr>\n",
       "      <th>3</th>\n",
       "      <td>4</td>\n",
       "      <td>Charlotte</td>\n",
       "      <td>108.0</td>\n",
       "      <td>0.2</td>\n",
       "      <td>98.4</td>\n",
       "      <td>109.4</td>\n",
       "      <td>109.1</td>\n",
       "      <td>0.3</td>\n",
       "      <td>12.6</td>\n",
       "      <td>-0.041</td>\n",
       "      <td>36</td>\n",
       "      <td>46</td>\n",
       "      <td>0.439</td>\n",
       "      <td>0.510</td>\n",
       "      <td>0.507</td>\n",
       "      <td>-0.071</td>\n",
       "      <td>NaN</td>\n",
       "    </tr>\n",
       "    <tr>\n",
       "      <th>4</th>\n",
       "      <td>5</td>\n",
       "      <td>Chicago</td>\n",
       "      <td>110.0</td>\n",
       "      <td>-7.1</td>\n",
       "      <td>98.3</td>\n",
       "      <td>103.8</td>\n",
       "      <td>110.9</td>\n",
       "      <td>-7.1</td>\n",
       "      <td>14.4</td>\n",
       "      <td>-0.061</td>\n",
       "      <td>27</td>\n",
       "      <td>55</td>\n",
       "      <td>0.329</td>\n",
       "      <td>0.311</td>\n",
       "      <td>0.266</td>\n",
       "      <td>0.018</td>\n",
       "      <td>NaN</td>\n",
       "    </tr>\n",
       "  </tbody>\n",
       "</table>\n",
       "</div>"
      ],
      "text/plain": [
       "   RANK       TEAM  aPTS/GM  PTS DIFF  PACE   OEFF   DEFF  EDIFF  CONS    A4F  \\\n",
       "0     1    Atlanta    108.8      -5.4  98.3  105.0  110.6   -5.6  13.4 -0.037   \n",
       "1     2     Boston    100.4       3.6  96.0  107.6  103.9    3.7  11.5  0.033   \n",
       "2     3   Brooklyn    110.3      -3.7  98.9  106.9  110.6   -3.7  12.2  0.021   \n",
       "3     4  Charlotte    108.0       0.2  98.4  109.4  109.1    0.3  12.6 -0.041   \n",
       "4     5    Chicago    110.0      -7.1  98.3  103.8  110.9   -7.1  14.4 -0.061   \n",
       "\n",
       "    W   L   WIN%  eWIN%  pWIN%    ACH  Unnamed: 16  \n",
       "0  24  58  0.293  0.338  0.322 -0.045          NaN  \n",
       "1  55  27  0.671  0.627  0.619  0.044          NaN  \n",
       "2  28  54  0.341  0.381  0.378 -0.040          NaN  \n",
       "3  36  46  0.439  0.510  0.507 -0.071          NaN  \n",
       "4  27  55  0.329  0.311  0.266  0.018          NaN  "
      ]
     },
     "execution_count": 194,
     "metadata": {},
     "output_type": "execute_result"
    }
   ],
   "source": [
    "data = pd.read_csv('C:\\\\Users\\\\Chung-Tseng Wang\\\\Desktop\\\\James Harden.csv')\n",
    "data.head()"
   ]
  },
  {
   "cell_type": "markdown",
   "metadata": {},
   "source": [
    "# Metrics Reference \n",
    "aPTS/GM - Points Allowed Per Game <br>\n",
    "PTS DIFF - Points Differential <br>\n",
    "Pace - Estimated posession per 48 minutes <br>\n",
    "OEFF - Offensive efficiency (points scored per 100 possession)<br>\n",
    "DEFF - Defensive efficiency (points allowed per 100 possession)<br>\n",
    "EDIFF - Efficiency Differential ((total offensive efficiency-total defensive efficiency)/games played) <br>\n",
    "CONS - Consistency (game by game efficiency differential variation) <br>\n",
    "A4F - Adjusted 4 factors <br>\n",
    "W - Wins <br>\n",
    "L- Loses <br>\n",
    "Win% - Winning percentage (W/GP)<br>\n",
    "eWin% - Correlated Gaussian expected winning percentage <br>\n",
    "pWin% - Projected Winning Percentage<br>\n",
    "ACH - Achievement level (Differntial between actual and expect winning percentage)<br>"
   ]
  },
  {
   "cell_type": "code",
   "execution_count": 195,
   "metadata": {},
   "outputs": [
    {
     "data": {
      "text/plain": [
       "0    29.3\n",
       "1    67.1\n",
       "2    34.1\n",
       "3    43.9\n",
       "4    32.9\n",
       "Name: WIN%, dtype: float64"
      ]
     },
     "execution_count": 195,
     "metadata": {},
     "output_type": "execute_result"
    }
   ],
   "source": [
    "data['WIN%'] = data['WIN%']*100\n",
    "data['WIN%'].head()"
   ]
  },
  {
   "cell_type": "code",
   "execution_count": 196,
   "metadata": {},
   "outputs": [
    {
     "data": {
      "text/html": [
       "<div>\n",
       "<style scoped>\n",
       "    .dataframe tbody tr th:only-of-type {\n",
       "        vertical-align: middle;\n",
       "    }\n",
       "\n",
       "    .dataframe tbody tr th {\n",
       "        vertical-align: top;\n",
       "    }\n",
       "\n",
       "    .dataframe thead th {\n",
       "        text-align: right;\n",
       "    }\n",
       "</style>\n",
       "<table border=\"1\" class=\"dataframe\">\n",
       "  <thead>\n",
       "    <tr style=\"text-align: right;\">\n",
       "      <th></th>\n",
       "      <th>RANK</th>\n",
       "      <th>TEAM</th>\n",
       "      <th>aPTS/GM</th>\n",
       "      <th>PTS DIFF</th>\n",
       "      <th>PACE</th>\n",
       "      <th>OEFF</th>\n",
       "      <th>DEFF</th>\n",
       "      <th>EDIFF</th>\n",
       "      <th>CONS</th>\n",
       "      <th>A4F</th>\n",
       "      <th>W</th>\n",
       "      <th>L</th>\n",
       "      <th>WIN%</th>\n",
       "      <th>eWIN%</th>\n",
       "      <th>pWIN%</th>\n",
       "      <th>ACH</th>\n",
       "      <th>Unnamed: 16</th>\n",
       "    </tr>\n",
       "  </thead>\n",
       "  <tbody>\n",
       "    <tr>\n",
       "      <th>25</th>\n",
       "      <td>26</td>\n",
       "      <td>Sacramento</td>\n",
       "      <td>105.8</td>\n",
       "      <td>-7.0</td>\n",
       "      <td>94.9</td>\n",
       "      <td>103.7</td>\n",
       "      <td>111.1</td>\n",
       "      <td>-7.4</td>\n",
       "      <td>12.6</td>\n",
       "      <td>-0.071</td>\n",
       "      <td>27</td>\n",
       "      <td>55</td>\n",
       "      <td>32.9</td>\n",
       "      <td>0.279</td>\n",
       "      <td>0.270</td>\n",
       "      <td>0.050</td>\n",
       "      <td>NaN</td>\n",
       "    </tr>\n",
       "    <tr>\n",
       "      <th>26</th>\n",
       "      <td>27</td>\n",
       "      <td>San Antonio</td>\n",
       "      <td>99.8</td>\n",
       "      <td>2.9</td>\n",
       "      <td>95.0</td>\n",
       "      <td>107.9</td>\n",
       "      <td>104.8</td>\n",
       "      <td>3.1</td>\n",
       "      <td>14.4</td>\n",
       "      <td>-0.005</td>\n",
       "      <td>47</td>\n",
       "      <td>35</td>\n",
       "      <td>57.3</td>\n",
       "      <td>0.585</td>\n",
       "      <td>0.595</td>\n",
       "      <td>-0.012</td>\n",
       "      <td>NaN</td>\n",
       "    </tr>\n",
       "    <tr>\n",
       "      <th>27</th>\n",
       "      <td>28</td>\n",
       "      <td>Toronto</td>\n",
       "      <td>103.9</td>\n",
       "      <td>7.7</td>\n",
       "      <td>97.3</td>\n",
       "      <td>113.8</td>\n",
       "      <td>105.9</td>\n",
       "      <td>7.9</td>\n",
       "      <td>12.4</td>\n",
       "      <td>0.049</td>\n",
       "      <td>59</td>\n",
       "      <td>23</td>\n",
       "      <td>72.0</td>\n",
       "      <td>0.739</td>\n",
       "      <td>0.754</td>\n",
       "      <td>-0.019</td>\n",
       "      <td>NaN</td>\n",
       "    </tr>\n",
       "    <tr>\n",
       "      <th>28</th>\n",
       "      <td>29</td>\n",
       "      <td>Utah</td>\n",
       "      <td>99.8</td>\n",
       "      <td>4.3</td>\n",
       "      <td>95.7</td>\n",
       "      <td>108.4</td>\n",
       "      <td>103.9</td>\n",
       "      <td>4.5</td>\n",
       "      <td>17.6</td>\n",
       "      <td>0.030</td>\n",
       "      <td>48</td>\n",
       "      <td>34</td>\n",
       "      <td>58.5</td>\n",
       "      <td>0.601</td>\n",
       "      <td>0.642</td>\n",
       "      <td>-0.016</td>\n",
       "      <td>NaN</td>\n",
       "    </tr>\n",
       "    <tr>\n",
       "      <th>29</th>\n",
       "      <td>30</td>\n",
       "      <td>Washington</td>\n",
       "      <td>106.0</td>\n",
       "      <td>0.6</td>\n",
       "      <td>96.6</td>\n",
       "      <td>109.4</td>\n",
       "      <td>108.7</td>\n",
       "      <td>0.7</td>\n",
       "      <td>14.5</td>\n",
       "      <td>0.003</td>\n",
       "      <td>43</td>\n",
       "      <td>39</td>\n",
       "      <td>52.4</td>\n",
       "      <td>0.519</td>\n",
       "      <td>0.520</td>\n",
       "      <td>0.005</td>\n",
       "      <td>NaN</td>\n",
       "    </tr>\n",
       "  </tbody>\n",
       "</table>\n",
       "</div>"
      ],
      "text/plain": [
       "    RANK         TEAM  aPTS/GM  PTS DIFF  PACE   OEFF   DEFF  EDIFF  CONS  \\\n",
       "25    26   Sacramento    105.8      -7.0  94.9  103.7  111.1   -7.4  12.6   \n",
       "26    27  San Antonio     99.8       2.9  95.0  107.9  104.8    3.1  14.4   \n",
       "27    28      Toronto    103.9       7.7  97.3  113.8  105.9    7.9  12.4   \n",
       "28    29         Utah     99.8       4.3  95.7  108.4  103.9    4.5  17.6   \n",
       "29    30   Washington    106.0       0.6  96.6  109.4  108.7    0.7  14.5   \n",
       "\n",
       "      A4F   W   L  WIN%  eWIN%  pWIN%    ACH  Unnamed: 16  \n",
       "25 -0.071  27  55  32.9  0.279  0.270  0.050          NaN  \n",
       "26 -0.005  47  35  57.3  0.585  0.595 -0.012          NaN  \n",
       "27  0.049  59  23  72.0  0.739  0.754 -0.019          NaN  \n",
       "28  0.030  48  34  58.5  0.601  0.642 -0.016          NaN  \n",
       "29  0.003  43  39  52.4  0.519  0.520  0.005          NaN  "
      ]
     },
     "execution_count": 196,
     "metadata": {},
     "output_type": "execute_result"
    }
   ],
   "source": [
    "data.tail()"
   ]
  },
  {
   "cell_type": "code",
   "execution_count": 197,
   "metadata": {},
   "outputs": [
    {
     "data": {
      "text/plain": [
       "(30, 17)"
      ]
     },
     "execution_count": 197,
     "metadata": {},
     "output_type": "execute_result"
    }
   ],
   "source": [
    "data.shape"
   ]
  },
  {
   "cell_type": "markdown",
   "metadata": {},
   "source": [
    "# Visualizing data using seaborn  "
   ]
  },
  {
   "cell_type": "code",
   "execution_count": 198,
   "metadata": {},
   "outputs": [
    {
     "data": {
      "text/plain": [
       "<seaborn.axisgrid.PairGrid at 0x24cf3c8dcc0>"
      ]
     },
     "execution_count": 198,
     "metadata": {},
     "output_type": "execute_result"
    },
    {
     "data": {
      "image/png": "[encoded data removed]",
      "text/plain": [
       "<matplotlib.figure.Figure at 0x24cf3c8d198>"
      ]
     },
     "metadata": {},
     "output_type": "display_data"
    }
   ],
   "source": [
    "#visualize relationship between factors and the response using scatterplot and line of best fit\n",
    "sb.pairplot(data, x_vars=['PTS DIFF','ACH','OEFF','DEFF','EDIFF'],y_vars ='WIN%', size = 5,aspect = 0.7,kind='reg')"
   ]
  },
  {
   "cell_type": "markdown",
   "metadata": {},
   "source": [
    "# Preparing inputs for scikit-learn \n",
    "### expects X (feature matrix) and y (response vector) to be numpy arrays\n",
    "#### X can be a pandas DataFrame and y can be a pandas Series too"
   ]
  },
  {
   "cell_type": "code",
   "execution_count": 199,
   "metadata": {},
   "outputs": [
    {
     "data": {
      "text/html": [
       "<div>\n",
       "<style scoped>\n",
       "    .dataframe tbody tr th:only-of-type {\n",
       "        vertical-align: middle;\n",
       "    }\n",
       "\n",
       "    .dataframe tbody tr th {\n",
       "        vertical-align: top;\n",
       "    }\n",
       "\n",
       "    .dataframe thead th {\n",
       "        text-align: right;\n",
       "    }\n",
       "</style>\n",
       "<table border=\"1\" class=\"dataframe\">\n",
       "  <thead>\n",
       "    <tr style=\"text-align: right;\">\n",
       "      <th></th>\n",
       "      <th>PTS DIFF</th>\n",
       "      <th>ACH</th>\n",
       "      <th>OEFF</th>\n",
       "      <th>EDIFF</th>\n",
       "    </tr>\n",
       "  </thead>\n",
       "  <tbody>\n",
       "    <tr>\n",
       "      <th>0</th>\n",
       "      <td>-5.4</td>\n",
       "      <td>-0.045</td>\n",
       "      <td>105.0</td>\n",
       "      <td>-5.6</td>\n",
       "    </tr>\n",
       "    <tr>\n",
       "      <th>1</th>\n",
       "      <td>3.6</td>\n",
       "      <td>0.044</td>\n",
       "      <td>107.6</td>\n",
       "      <td>3.7</td>\n",
       "    </tr>\n",
       "    <tr>\n",
       "      <th>2</th>\n",
       "      <td>-3.7</td>\n",
       "      <td>-0.040</td>\n",
       "      <td>106.9</td>\n",
       "      <td>-3.7</td>\n",
       "    </tr>\n",
       "    <tr>\n",
       "      <th>3</th>\n",
       "      <td>0.2</td>\n",
       "      <td>-0.071</td>\n",
       "      <td>109.4</td>\n",
       "      <td>0.3</td>\n",
       "    </tr>\n",
       "    <tr>\n",
       "      <th>4</th>\n",
       "      <td>-7.1</td>\n",
       "      <td>0.018</td>\n",
       "      <td>103.8</td>\n",
       "      <td>-7.1</td>\n",
       "    </tr>\n",
       "  </tbody>\n",
       "</table>\n",
       "</div>"
      ],
      "text/plain": [
       "   PTS DIFF    ACH   OEFF  EDIFF\n",
       "0      -5.4 -0.045  105.0   -5.6\n",
       "1       3.6  0.044  107.6    3.7\n",
       "2      -3.7 -0.040  106.9   -3.7\n",
       "3       0.2 -0.071  109.4    0.3\n",
       "4      -7.1  0.018  103.8   -7.1"
      ]
     },
     "execution_count": 199,
     "metadata": {},
     "output_type": "execute_result"
    }
   ],
   "source": [
    "#Create list of features \n",
    "feature_cols = ['PTS DIFF','ACH','OEFF','EDIFF']\n",
    "\n",
    "#Use the list to select a subset of the orgiginal DataFrame\n",
    "X = data[feature_cols]\n",
    "\n",
    "X.head()"
   ]
  },
  {
   "cell_type": "code",
   "execution_count": 200,
   "metadata": {},
   "outputs": [
    {
     "name": "stdout",
     "output_type": "stream",
     "text": [
      "<class 'pandas.core.frame.DataFrame'>\n"
     ]
    },
    {
     "data": {
      "text/plain": [
       "(30, 4)"
      ]
     },
     "execution_count": 200,
     "metadata": {},
     "output_type": "execute_result"
    }
   ],
   "source": [
    "print(type(X))\n",
    "X.shape"
   ]
  },
  {
   "cell_type": "code",
   "execution_count": 201,
   "metadata": {},
   "outputs": [
    {
     "data": {
      "text/plain": [
       "0    29.3\n",
       "1    67.1\n",
       "2    34.1\n",
       "3    43.9\n",
       "4    32.9\n",
       "Name: WIN%, dtype: float64"
      ]
     },
     "execution_count": 201,
     "metadata": {},
     "output_type": "execute_result"
    }
   ],
   "source": [
    "#select a Series from the DataFrame\n",
    "y = data['WIN%']\n",
    "y.head()"
   ]
  },
  {
   "cell_type": "code",
   "execution_count": 202,
   "metadata": {},
   "outputs": [
    {
     "data": {
      "text/plain": [
       "(30,)"
      ]
     },
     "execution_count": 202,
     "metadata": {},
     "output_type": "execute_result"
    }
   ],
   "source": [
    "type(y)\n",
    "y.shape"
   ]
  },
  {
   "cell_type": "markdown",
   "metadata": {},
   "source": [
    "# Splitting X and y into training and testing sets"
   ]
  },
  {
   "cell_type": "code",
   "execution_count": 203,
   "metadata": {},
   "outputs": [],
   "source": [
    "from sklearn.cross_validation import train_test_split\n",
    "X_train, X_test, y_train, y_test = train_test_split(X,y,random_state = 1)"
   ]
  },
  {
   "cell_type": "code",
   "execution_count": 204,
   "metadata": {},
   "outputs": [
    {
     "name": "stdout",
     "output_type": "stream",
     "text": [
      "(22, 4)\n",
      "(8, 4)\n",
      "(22,)\n",
      "(8,)\n"
     ]
    }
   ],
   "source": [
    "#defualt split is 75% for training and 25% for testing\n",
    "print(X_train.shape)\n",
    "print(X_test.shape)\n",
    "print(y_train.shape)\n",
    "print(y_test.shape)"
   ]
  },
  {
   "cell_type": "markdown",
   "metadata": {},
   "source": [
    "# Linear Regression in scikit-learn "
   ]
  },
  {
   "cell_type": "code",
   "execution_count": 205,
   "metadata": {},
   "outputs": [
    {
     "data": {
      "text/plain": [
       "LinearRegression(copy_X=True, fit_intercept=True, n_jobs=1, normalize=False)"
      ]
     },
     "execution_count": 205,
     "metadata": {},
     "output_type": "execute_result"
    }
   ],
   "source": [
    "#import model \n",
    "from sklearn.linear_model import LinearRegression \n",
    "\n",
    "#instantiate \n",
    "linreg = LinearRegression()\n",
    "\n",
    "#fit the model to the training data (learn the coefficients)\n",
    "linreg.fit(X_train, y_train)"
   ]
  },
  {
   "cell_type": "code",
   "execution_count": 206,
   "metadata": {},
   "outputs": [
    {
     "name": "stdout",
     "output_type": "stream",
     "text": [
      "54.17346601569098\n",
      "[-3.14913634e+00  1.05346054e+02 -3.76174059e-02  5.92635113e+00]\n"
     ]
    }
   ],
   "source": [
    "#print the intercept and coefficients \n",
    "print(linreg.intercept_)\n",
    "print(linreg.coef_)"
   ]
  },
  {
   "cell_type": "code",
   "execution_count": 207,
   "metadata": {},
   "outputs": [
    {
     "data": {
      "text/plain": [
       "[('PTS DIFF', -3.149136335286515),\n",
       " ('ACH', 105.34605430136904),\n",
       " ('OEFF', -0.03761740588780282),\n",
       " ('EDIFF', 5.92635113382131)]"
      ]
     },
     "execution_count": 207,
     "metadata": {},
     "output_type": "execute_result"
    }
   ],
   "source": [
    "#pair the feature name with the coefficients \n",
    "zipped = list(zip(feature_cols,linreg.coef_))\n",
    "zipped"
   ]
  },
  {
   "cell_type": "markdown",
   "metadata": {},
   "source": [
    "### y = 54.17 + (-3.149 x PTS DIFF + 105.346 x ACH + -0.0376 x OEFF + 5.926 x EDIFF)"
   ]
  },
  {
   "cell_type": "code",
   "execution_count": 208,
   "metadata": {},
   "outputs": [
    {
     "data": {
      "text/plain": [
       "array([56.92619802, 31.65762238, 77.2828724 , 34.98583644, 29.24423498,\n",
       "       58.57330159, 58.08958841, 43.72663003])"
      ]
     },
     "execution_count": 208,
     "metadata": {},
     "output_type": "execute_result"
    }
   ],
   "source": [
    "y_pred = linreg.predict(X_test)\n",
    "y_pred"
   ]
  },
  {
   "cell_type": "markdown",
   "metadata": {},
   "source": [
    "# Testing different metrics "
   ]
  },
  {
   "cell_type": "code",
   "execution_count": 209,
   "metadata": {},
   "outputs": [
    {
     "data": {
      "text/plain": [
       "0.9304013087669842"
      ]
     },
     "execution_count": 209,
     "metadata": {},
     "output_type": "execute_result"
    }
   ],
   "source": [
    "from sklearn import metrics\n",
    "\n",
    "#Mean Absolute Error\n",
    "mae = metrics.mean_absolute_error(y_test,y_pred)\n",
    "mae"
   ]
  },
  {
   "cell_type": "code",
   "execution_count": 210,
   "metadata": {},
   "outputs": [
    {
     "data": {
      "text/plain": [
       "1.5441646812002343"
      ]
     },
     "execution_count": 210,
     "metadata": {},
     "output_type": "execute_result"
    }
   ],
   "source": [
    "#Mean Squared Error\n",
    "mse = metrics.mean_squared_error(y_test,y_pred)\n",
    "mse"
   ]
  },
  {
   "cell_type": "code",
   "execution_count": 211,
   "metadata": {},
   "outputs": [
    {
     "data": {
      "text/plain": [
       "1.2426442295364488"
      ]
     },
     "execution_count": 211,
     "metadata": {},
     "output_type": "execute_result"
    }
   ],
   "source": [
    "#Root Mean Squared error\n",
    "rmse = np.sqrt(metrics.mean_squared_error(y_test,y_pred))\n",
    "rmse"
   ]
  },
  {
   "cell_type": "markdown",
   "metadata": {},
   "source": [
    "# Feature Selection "
   ]
  },
  {
   "cell_type": "code",
   "execution_count": 213,
   "metadata": {},
   "outputs": [
    {
     "data": {
      "text/plain": [
       "1.211788367654696"
      ]
     },
     "execution_count": 213,
     "metadata": {},
     "output_type": "execute_result"
    }
   ],
   "source": [
    "#Create a python list of feature names\n",
    "feature_cols = ['PTS DIFF','ACH','EDIFF']\n",
    "\n",
    "#use the list to select a subset of the orignial DataFrame\n",
    "x = data[feature_cols]\n",
    "\n",
    "#select a Series from the DataFrame \n",
    "y = data['WIN%']\n",
    "\n",
    "#split into trianing and testing sets \n",
    "x_train, x_test, y_train, y_test = train_test_split(x,y,random_state = 1)\n",
    "\n",
    "#fit the model to the training data (learn the coefficients)\n",
    "linreg.fit(x_train,y_train)\n",
    "\n",
    "#make predictions on the testing set\n",
    "y_pred = linreg.predict(x_test)\n",
    "\n",
    "#compue the RMSE of our predictions\n",
    "np.sqrt(metrics.mean_squared_error(y_test,y_pred))"
   ]
  }
 ],
 "metadata": {
  "kernelspec": {
   "display_name": "Python 3",
   "language": "python",
   "name": "python3"
  },
  "language_info": {
   "codemirror_mode": {
    "name": "ipython",
    "version": 3
   },
   "file_extension": ".py",
   "mimetype": "text/x-python",
   "name": "python",
   "nbconvert_exporter": "python",
   "pygments_lexer": "ipython3",
   "version": "3.6.4"
  }
 },
 "nbformat": 4,
 "nbformat_minor": 2
}
